{
 "cells": [
  {
   "cell_type": "markdown",
   "metadata": {},
   "source": [
    "Если база данных уже находится в папке то можно сразу запускать сайт на Flask c помощью файла flask_run.py"
   ]
  },
  {
   "cell_type": "code",
   "execution_count": null,
   "metadata": {},
   "outputs": [],
   "source": [
    "!python flask_run.py"
   ]
  },
  {
   "cell_type": "markdown",
   "metadata": {},
   "source": [
    "Стандартно сайт будет доступен по адресу http://127.0.0.1:5000/ или http://localhost:5000/  \n",
    "Иначе проделать действия ниже"
   ]
  },
  {
   "cell_type": "code",
   "execution_count": 22,
   "metadata": {},
   "outputs": [],
   "source": [
    "import pandas as pd\n",
    "import numpy as np\n",
    "import flask\n",
    "#import sqlalchemy \n",
    "from sqlalchemy import create_engine, MetaData\n",
    "from geolite2 import geolite2"
   ]
  },
  {
   "cell_type": "markdown",
   "metadata": {},
   "source": [
    "### Этап загрузки логов\n"
   ]
  },
  {
   "cell_type": "code",
   "execution_count": 2,
   "metadata": {},
   "outputs": [],
   "source": [
    "data_logs = pd.read_csv('data/logs.txt', sep=' ', header=None)  \n",
    "data_logs = data_logs.drop([0,1,2,3,4,5,6,9,10], axis=1)\n",
    "data_logs.columns = ['date','time','ip_addres','url']\n",
    "data_logs[\"country\"] = \"empty\"\n",
    "i = 0\n",
    "for val_data, val_time in zip(data_logs[\"date\"], data_logs[\"time\"]):\n",
    "    data_logs[\"date\"][i] = val_data +' '+ val_time\n",
    "    reader = geolite2.reader()\n",
    "    country = reader.get(data_logs[\"ip_addres\"][i])\n",
    "    if country is None:\n",
    "        data_logs.country[i] = 'Narnia'\n",
    "    else:\n",
    "        try:\n",
    "            country = country[\"country\"][\"names\"]['en']\n",
    "        except KeyError:\n",
    "            country = country[\"registered_country\"][\"names\"]['en']\n",
    "        data_logs.country[i] = country    \n",
    "    i += 1\n",
    "data_logs =  data_logs.drop([\"time\"], axis=1)"
   ]
  },
  {
   "cell_type": "code",
   "execution_count": 3,
   "metadata": {},
   "outputs": [],
   "source": [
    "data_logs.head(5);"
   ]
  },
  {
   "cell_type": "markdown",
   "metadata": {},
   "source": [
    "### Запускаем парсер который подготовит логи к загрузке в базу"
   ]
  },
  {
   "cell_type": "code",
   "execution_count": 4,
   "metadata": {},
   "outputs": [
    {
     "name": "stderr",
     "output_type": "stream",
     "text": [
      "C:\\Users\\Aleksey\\my_first_project\\parser_logs.py:100: SettingWithCopyWarning: \n",
      "A value is trying to be set on a copy of a slice from a DataFrame\n",
      "\n",
      "See the caveats in the documentation: http://pandas.pydata.org/pandas-docs/stable/user_guide/indexing.html#returning-a-view-versus-a-copy\n",
      "  goods_df.goods_id[j] = i + 1\n",
      "C:\\Users\\Aleksey\\my_first_project\\parser_logs.py:106: SettingWithCopyWarning: \n",
      "A value is trying to be set on a copy of a slice from a DataFrame\n",
      "\n",
      "See the caveats in the documentation: http://pandas.pydata.org/pandas-docs/stable/user_guide/indexing.html#returning-a-view-versus-a-copy\n",
      "  goods_df.category_id[i] = j + 1\n"
     ]
    }
   ],
   "source": [
    "from parser_logs import run_parser\n",
    "goods_category_df, goods_df, cart_df, pay_df = run_parser(data_logs)"
   ]
  },
  {
   "cell_type": "markdown",
   "metadata": {},
   "source": [
    "### Создаем базу данных"
   ]
  },
  {
   "cell_type": "code",
   "execution_count": 5,
   "metadata": {},
   "outputs": [],
   "source": [
    "from create_db import Create_DataBase\n",
    "engine = create_engine(\"sqlite:///data/DB_all_to_the_bottom.db\")\n",
    "metadata = MetaData()\n",
    "metadata = Create_DataBase()"
   ]
  },
  {
   "cell_type": "markdown",
   "metadata": {},
   "source": [
    "### Загружаем данные в базу"
   ]
  },
  {
   "cell_type": "code",
   "execution_count": 6,
   "metadata": {},
   "outputs": [],
   "source": [
    "data_logs.to_sql('logs', con=engine, if_exists='append', index_label='logs_index')\n",
    "\n",
    "category_and_goods = goods_df[[\"category_id\",\"goods_id\"]]\n",
    "category_and_goods.to_sql('goods_and_category', con=engine, if_exists='append', index_label=\"goods_and_category_index\")\n",
    "\n",
    "goods = goods_df[[\"goods_id\",\"name_goods\"]]\n",
    "goods.to_sql('goods', con=engine, if_exists='append', index_label=\"goods_index\")\n",
    "\n",
    "goods_category_df[\"category_id\"] = range(1,goods_category_df.shape[0]+1)\n",
    "goods_category_df = goods_category_df[[\"category_id\",\"name_category\"]]\n",
    "goods_category_df.to_sql('goods_category', con=engine, if_exists='append', index_label=\"goods_category_index\")\n",
    "\n",
    "cart_df.to_sql('cart', con=engine, if_exists='append', index_label=\"cart_index\")\n",
    "\n",
    "pay_df.to_sql('pay', con=engine, if_exists='append', index_label=\"pay_index\") "
   ]
  },
  {
   "cell_type": "code",
   "execution_count": null,
   "metadata": {},
   "outputs": [],
   "source": [
    "!python flask_run.py"
   ]
  }
 ],
 "metadata": {
  "file_extension": ".py",
  "kernelspec": {
   "display_name": "Python 3.7.3 64-bit ('base': conda)",
   "language": "python",
   "name": "python37364bitbaseconda776019d283204108946f1cbde7d1ff3c"
  },
  "language_info": {
   "codemirror_mode": {
    "name": "ipython",
    "version": 3
   },
   "file_extension": ".py",
   "mimetype": "text/x-python",
   "name": "python",
   "nbconvert_exporter": "python",
   "pygments_lexer": "ipython3",
   "version": "3.7.3"
  },
  "mimetype": "text/x-python",
  "name": "python",
  "npconvert_exporter": "python",
  "pygments_lexer": "ipython3",
  "version": 3
 },
 "nbformat": 4,
 "nbformat_minor": 2
}
